{
 "cells": [
  {
   "cell_type": "code",
   "execution_count": 1,
   "id": "6b204c35-2a34-4e01-b2aa-db25e0ffc9cf",
   "metadata": {},
   "outputs": [
    {
     "name": "stdout",
     "output_type": "stream",
     "text": [
      "Requirement already satisfied: spotipy in /Users/robdow/anaconda3/lib/python3.9/site-packages (2.19.0)\n",
      "Requirement already satisfied: urllib3>=1.26.0 in /Users/robdow/anaconda3/lib/python3.9/site-packages (from spotipy) (1.26.7)\n",
      "Requirement already satisfied: six>=1.15.0 in /Users/robdow/anaconda3/lib/python3.9/site-packages (from spotipy) (1.16.0)\n",
      "Requirement already satisfied: requests>=2.25.0 in /Users/robdow/anaconda3/lib/python3.9/site-packages (from spotipy) (2.26.0)\n",
      "Requirement already satisfied: idna<4,>=2.5 in /Users/robdow/anaconda3/lib/python3.9/site-packages (from requests>=2.25.0->spotipy) (3.2)\n",
      "Requirement already satisfied: certifi>=2017.4.17 in /Users/robdow/anaconda3/lib/python3.9/site-packages (from requests>=2.25.0->spotipy) (2021.10.8)\n",
      "Requirement already satisfied: charset-normalizer~=2.0.0 in /Users/robdow/anaconda3/lib/python3.9/site-packages (from requests>=2.25.0->spotipy) (2.0.4)\n"
     ]
    }
   ],
   "source": [
    "import sys\n",
    "!{sys.executable} -m pip install spotipy\n",
    "import json\n",
    "import spotipy.util as util\n",
    "import spotipy\n",
    "from spotipy.oauth2 import SpotifyOAuth"
   ]
  },
  {
   "cell_type": "code",
   "execution_count": 3,
   "id": "13088a48-6e4d-4acb-b99f-aba54f41013d",
   "metadata": {},
   "outputs": [],
   "source": [
    "\n",
    "\n",
    "scope = \"user-read-private\" #for searching for URIs\n",
    "# scope = \"playlist-modify-public\"\n",
    "client_id = \"53e9bb1b8d3d498dac14ef2c8507f800\"\n",
    "client_secret = \"690ac39a2c7b4b188f8bf641c6dd5066\"\n",
    "redirect_url = \"http://localhost:5000\"\n",
    "\n",
    "sp = spotipy.Spotify(auth_manager=SpotifyOAuth(client_id=client_id, client_secret= client_secret, redirect_uri=redirect_url, scope=scope))\n",
    "\n",
    "\n",
    "# spotipy.prompt_for_user_token(username='dowcowrox', client_secret=\"690ac39a2c7b4b188f8bf641c6dd5066\", client_id=\"53e9bb1b8d3d498dac14ef2c8507f800\", scope='user-read-private', redirect_uri='http://localhost:5000')\n",
    "\n",
    "\n",
    "# results = sp.current_user_recently_played()\n",
    "# for index, item in enumerate(results['items']):\n",
    "#     track = item['track']\n",
    "#     print(index, track['artists'][0]['name'], \" – \", track['name'])\n",
    "    "
   ]
  },
  {
   "cell_type": "code",
   "execution_count": 1,
   "id": "32dc01e0-a5f1-4cce-b3d3-c0aaefe205e0",
   "metadata": {},
   "outputs": [],
   "source": [
    "# results = sp.search(q='artist:' + \"Israel Kamakawiwoʻole\", type='track', limit=50)\n",
    "# for s in results[\"tracks\"][\"items\"]:\n",
    "#     print(s[\"name\"])\n",
    "# help(sp.search)\n",
    "    "
   ]
  },
  {
   "cell_type": "code",
   "execution_count": 4,
   "id": "ebfe7b0d-7763-4418-923f-a5ac200addb4",
   "metadata": {},
   "outputs": [],
   "source": [
    "\n",
    "# artistName = \"Israel Kamakawiwoʻole\"\n",
    "# trackName = \"Somewhere Over The Rainbow_What A Wonderful World\"\n",
    "\n",
    "# artistEntry = artistName.replace(\" \", \"%\")\n",
    "# results = sp.search(q='artist:' + artistEntry, type='track', limit=50)\n",
    "\n",
    "# for track in results[\"tracks\"][\"items\"]:\n",
    "#     # if track[\"name\"] == trackName:\n",
    "#     print(\"success\")\n",
    "#     print(\"Track: \" + track[\"name\"])\n",
    "#     print(\"Artist: \" + track[\"artists\"][0][\"name\"])\n",
    "#     print(\"URI: \" + track[\"uri\"])\n",
    "# # results"
   ]
  },
  {
   "cell_type": "code",
   "execution_count": 3,
   "id": "2e8df2e4-1bb0-4ae9-b7f3-1a5398747967",
   "metadata": {},
   "outputs": [],
   "source": [
    "# results3[\"tracks\"][\"items\"][7][\"name\"]\n",
    "# results3[\"tracks\"][\"items\"][7][\"artists\"][0][\"name\"]\n",
    "# results3[\"tracks\"][\"items\"][7][\"uri\"]"
   ]
  },
  {
   "cell_type": "code",
   "execution_count": 11,
   "id": "a2391fdc-3474-4e65-97ca-bc75a8ba2540",
   "metadata": {},
   "outputs": [],
   "source": [
    "token = util.prompt_for_user_token(username=\"dowcowrox\", scope=\"user-read-private\", client_id=\"53e9bb1b8d3d498dac14ef2c8507f800\", client_secret=\"690ac39a2c7b4b188f8bf641c6dd5066\", redirect_uri=\"http://localhost:5000\")\n",
    "\n"
   ]
  },
  {
   "cell_type": "code",
   "execution_count": 12,
   "id": "57d40085-0010-4fe0-a245-c093ded0bfdb",
   "metadata": {},
   "outputs": [],
   "source": [
    "if token:\n",
    "    spp = spotipy.Spotify(auth=token)\n",
    "    # results = spp.current_user_saved_tracks()\n",
    "    # for item in results['items']:\n",
    "    #     track = item['track']\n",
    "    #     print(track['name'] + ' - ' + track['artists'][0]['name'])"
   ]
  },
  {
   "cell_type": "code",
   "execution_count": 21,
   "id": "767af4af-4f9b-4693-af5e-56e9a631a7f9",
   "metadata": {},
   "outputs": [],
   "source": [
    "# urn = 'spotify:artist:3jOstUTkEu2JkjvRdBA5Gu'\n",
    "\n",
    "playlists = sp.user_playlists('dowcowrox')\n",
    "# sp.user_playlist_create(\"dowcowrox\",\"Hello World3\",public=True)\n",
    "# print(playlists.keys())\n",
    "\n",
    "playlists[\"items\"][0]\n",
    "\n",
    "while playlists:\n",
    "    for i, playlist in enumerate(playlists['items']):\n",
    "        x = 1\n",
    "        # print(f\"{i+1}. {playlist['name']}, ID: {playlist['id']}\")\n",
    "    if playlists['next']:\n",
    "        playlists = sp.next(playlists)\n",
    "    else:\n",
    "        playlists = None\n"
   ]
  },
  {
   "cell_type": "code",
   "execution_count": 33,
   "id": "8144892c-0577-47a2-90f9-a15a626c20d0",
   "metadata": {},
   "outputs": [
    {
     "data": {
      "text/plain": [
       "{'snapshot_id': 'OCw2MzkxOGY1MDExYjVlNmEwYjE1MWE1ZTEyNDI2ZDQ4MDVhNGZjODFj'}"
      ]
     },
     "execution_count": 33,
     "metadata": {},
     "output_type": "execute_result"
    }
   ],
   "source": [
    "playlist_id = \"4jva3AQSHOgODNbOidMOYm\"\n",
    "uris = [\"spotify:track:01Q7stNowjtgqKSDK3MQHp\",\"spotify:track:57V4uc2b2diZ4RPHXWecb9\", \"spotify:track:33e9HtOfO1ye1h8xQ7Foc9\"]\n",
    "\n",
    "m = sp.user_playlist_add_tracks(user=\"dowcowrox\", playlist_id=playlist_id, tracks=uris)\n"
   ]
  },
  {
   "cell_type": "code",
   "execution_count": 1,
   "id": "1f29b9d6-4481-462f-859e-a8225200f3a3",
   "metadata": {},
   "outputs": [
    {
     "ename": "NameError",
     "evalue": "name 'playlists' is not defined",
     "output_type": "error",
     "traceback": [
      "\u001b[0;31m---------------------------------------------------------------------------\u001b[0m",
      "\u001b[0;31mNameError\u001b[0m                                 Traceback (most recent call last)",
      "\u001b[0;32m/var/folders/sb/f56w88cj64j7qk0fjx721zsc0000gn/T/ipykernel_84485/3692305344.py\u001b[0m in \u001b[0;36m<module>\u001b[0;34m\u001b[0m\n\u001b[0;32m----> 1\u001b[0;31m \u001b[0;32mfor\u001b[0m \u001b[0me\u001b[0m \u001b[0;32min\u001b[0m \u001b[0mplaylists\u001b[0m\u001b[0;34m:\u001b[0m\u001b[0;34m\u001b[0m\u001b[0;34m\u001b[0m\u001b[0m\n\u001b[0m\u001b[1;32m      2\u001b[0m     \u001b[0mprint\u001b[0m\u001b[0;34m(\u001b[0m\u001b[0me\u001b[0m\u001b[0;34m[\u001b[0m\u001b[0;34m\"name\"\u001b[0m\u001b[0;34m]\u001b[0m\u001b[0;34m)\u001b[0m\u001b[0;34m\u001b[0m\u001b[0;34m\u001b[0m\u001b[0m\n",
      "\u001b[0;31mNameError\u001b[0m: name 'playlists' is not defined"
     ]
    }
   ],
   "source": []
  }
 ],
 "metadata": {
  "kernelspec": {
   "display_name": "Python 3 (ipykernel)",
   "language": "python",
   "name": "python3"
  },
  "language_info": {
   "codemirror_mode": {
    "name": "ipython",
    "version": 3
   },
   "file_extension": ".py",
   "mimetype": "text/x-python",
   "name": "python",
   "nbconvert_exporter": "python",
   "pygments_lexer": "ipython3",
   "version": "3.9.7"
  }
 },
 "nbformat": 4,
 "nbformat_minor": 5
}
